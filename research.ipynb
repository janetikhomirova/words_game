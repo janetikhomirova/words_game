{
 "cells": [
  {
   "cell_type": "code",
   "execution_count": null,
   "id": "8764cbe6",
   "metadata": {},
   "outputs": [],
   "source": [
    "import numpy as np\n",
    "from sklearn.metrics.pairwise import cosine_similarity"
   ]
  },
  {
   "cell_type": "code",
   "execution_count": 2,
   "id": "2749bf64",
   "metadata": {},
   "outputs": [],
   "source": [
    "embeddings_pavlov = np.load('embeddings/DeepPavlov_rubert-base-cased.npy', allow_pickle=True).item()\n",
    "embeddings_sber = np.load('embeddings/sberbank-ai_ruRoberta-large.npy', allow_pickle=True).item()\n",
    "embeddings_google = np.load('embeddings/cointegrated_LaBSE-en-ru.npy', allow_pickle=True).item()"
   ]
  },
  {
   "cell_type": "code",
   "execution_count": 3,
   "id": "498fc4ce",
   "metadata": {},
   "outputs": [],
   "source": [
    "with open('russian_nouns.txt', 'r', encoding='utf-8') as f:\n",
    "    words = [line.strip() for line in f]"
   ]
  },
  {
   "cell_type": "code",
   "execution_count": null,
   "id": "f20b0d48",
   "metadata": {},
   "outputs": [],
   "source": [
    "target_word = \"читатель\"\n",
    "\n",
    "target_embedding = embeddings_pavlov[target_word]\n",
    "similarities = {\n",
    "    word: cosine_similarity([emb], [target_embedding])[0][0]\n",
    "    for word, emb in embeddings_pavlov.items()\n",
    "}\n",
    "sorted_words_pavlov = sorted(words, key=lambda x: -similarities[x])\n",
    "\n",
    "\n",
    "\n",
    "target_embedding = embeddings_sber[target_word]\n",
    "similarities = {\n",
    "    word: cosine_similarity([emb], [target_embedding])[0][0]\n",
    "    for word, emb in embeddings_sber.items()\n",
    "}\n",
    "sorted_words_sber = sorted(words, key=lambda x: -similarities[x])\n",
    "\n",
    "\n",
    "target_embedding = embeddings_google[target_word]\n",
    "similarities = {\n",
    "    word: cosine_similarity([emb], [target_embedding])[0][0]\n",
    "    for word, emb in embeddings_google.items()\n",
    "}\n",
    "sorted_words_google = sorted(words, key=lambda x: -similarities[x])"
   ]
  },
  {
   "cell_type": "markdown",
   "id": "8bc76730",
   "metadata": {},
   "source": [
    "### Посравниваем эмбеддинги у разных моделей для простых слов, чтобы выбрать лучшую модель."
   ]
  },
  {
   "cell_type": "code",
   "execution_count": null,
   "id": "0757b18c",
   "metadata": {},
   "outputs": [
    {
     "name": "stdout",
     "output_type": "stream",
     "text": [
      "['корова', 'лошадь', 'головка', 'туш', 'земля', 'коробок', 'лось', 'труба', 'надел', 'собака', 'кусок', 'мешок', 'цилиндр', 'ворон', 'верблюд', 'коса', 'олень', 'рана', 'чаша', 'изба']\n",
      "['корова', 'коровка', 'коровёнка', 'коровушка', 'моська', 'косуля', 'сова', 'поросль', 'коровница', 'лосось', 'коровяк', 'белуха', 'скотница', 'коза', 'бурка', 'мурава', 'свинуха', 'гусак', 'золотуха', 'кобра']\n",
      "['корова', 'овца', 'корьё', 'овёс', 'корь', 'скот', 'овчишка', 'ков', 'овчарка', 'овечка', 'овчина', 'овчинка', 'койне', 'овчарня', 'лошак', 'коровяк', 'лошадка', 'коровёнка', 'тёс', 'порося']\n"
     ]
    }
   ],
   "source": [
    "print(sorted_words_pavlov[:20])\n",
    "print(sorted_words_sber[:20])\n",
    "print(sorted_words_google[:20])"
   ]
  },
  {
   "cell_type": "code",
   "execution_count": 12,
   "id": "38fce375",
   "metadata": {},
   "outputs": [
    {
     "name": "stdout",
     "output_type": "stream",
     "text": [
      "['стена', 'башня', 'стенка', 'плотина', 'скала', 'ветка', 'арка', 'крыша', 'плита', 'колонна', 'лестница', 'насыпь', 'горка', 'труба', 'дамба', 'стрела', 'цитадель', 'столп', 'черта', 'стела']\n",
      "['стена', 'стенка', 'пелена', 'плита', 'стела', 'стройка', 'панель', 'оконница', 'арена', 'стень', 'страда', 'доска', 'скала', 'стоечка', 'стойка', 'штора', 'галера', 'руина', 'постройка', 'надпись']\n",
      "['стена', 'стен', 'стенка', 'стень', 'стеночка', 'стеньга', 'оградка', 'ограда', 'потолок', 'купол', 'бордюр', 'забор', 'стенание', 'перстенёк', 'стенопись', 'кровля', 'крыша', 'стела', 'ограждение', 'заграждение']\n"
     ]
    }
   ],
   "source": [
    "print(sorted_words_pavlov[:20])\n",
    "print(sorted_words_sber[:20])\n",
    "print(sorted_words_google[:20])"
   ]
  },
  {
   "cell_type": "code",
   "execution_count": 14,
   "id": "68d7addf",
   "metadata": {},
   "outputs": [
    {
     "name": "stdout",
     "output_type": "stream",
     "text": [
      "['папа', 'дедушка', 'бог', 'парень', 'жених', 'ковбой', 'урод', 'волшебник', 'хулиган', 'мама', 'папаша', 'старец', 'поклонник', 'король', 'идиот', 'старик', 'трус', 'любовник', 'сосед', 'герой']\n",
      "['папа', 'папаша', 'папушка', 'папочка', 'папенька', 'папаня', 'папуша', 'папанька', 'папашка', 'мама', 'папаха', 'паприка', 'папушник', 'папка', 'папашенька', 'мамаша', 'папах', 'папороть', 'баба', 'пупочка']\n",
      "['папа', 'отец', 'папах', 'тата', 'отчим', 'батя', 'батько', 'папаша', 'папочка', 'дядька', 'деда', 'папаха', 'атас', 'батюшка', 'дед', 'батька', 'дедушка', 'татьба', 'папайя', 'папашка']\n"
     ]
    }
   ],
   "source": [
    "print(sorted_words_pavlov[:20])\n",
    "print(sorted_words_sber[:20])\n",
    "print(sorted_words_google[:20])"
   ]
  },
  {
   "cell_type": "code",
   "execution_count": 16,
   "id": "3cf796bb",
   "metadata": {},
   "outputs": [
    {
     "name": "stdout",
     "output_type": "stream",
     "text": [
      "['мама', 'бабушка', 'мать', 'дедушка', 'отец', 'жених', 'мамаша', 'дед', 'тесть', 'дядя', 'невеста', 'девушка', 'мамочка', 'девочка', 'родитель', 'дочка', 'юноша', 'папа', 'красавица', 'отчим']\n",
      "['мама', 'мамуля', 'мамаша', 'мамочка', 'мамушка', 'мамка', 'папа', 'мамуся', 'доченька', 'папочка', 'бабуля', 'дочечка', 'бабушка', 'маман', 'папушка', 'дочушка', 'мамашка', 'папенька', 'дочка', 'баба']\n",
      "['мама', 'мать', 'мамочка', 'майка', 'мамашка', 'мамуля', 'мамаша', 'маманька', 'маманя', 'маменька', 'мамочкин', 'мамашенька', 'мамуся', 'мамка', 'матушка', 'мать-мачеха', 'маман', 'бабуся', 'мамушка', 'мать-и-мачеха']\n"
     ]
    }
   ],
   "source": [
    "print(sorted_words_pavlov[:20])\n",
    "print(sorted_words_sber[:20])\n",
    "print(sorted_words_google[:20])"
   ]
  },
  {
   "cell_type": "code",
   "execution_count": 20,
   "id": "83eeaa10",
   "metadata": {},
   "outputs": [
    {
     "name": "stdout",
     "output_type": "stream",
     "text": [
      "['читатель', 'зритель', 'читательница', 'публика', 'посетитель', 'собеседник', 'колонка', 'повествователь', 'общественность', 'аудитория', 'курьер', 'издатель', 'абонент', 'рецензент', 'репортаж', 'корреспондент', 'пользователь', 'репортёр', 'потребитель', 'ценз']\n",
      "['читатель', 'читка', 'слушатель', 'читательница', 'читалка', 'читальщик', 'издатель', 'советодатель', 'советчик', 'соответчик', 'писака', 'подчитчик', 'почитатель', 'толкователь', 'считчик', 'украшатель', 'нетчик', 'дружок', 'рекомендатель', 'чтитель']\n",
      "['читатель', 'читальщик', 'читательница', 'читалка', 'почитатель', 'слухач', 'слушатель', 'слушательница', 'чтение', 'читальня', 'почитательница', 'прочтение', 'прочитывание', 'дочитывание', 'послушник', 'чета', 'вольнослушатель', 'читка', 'зритель', 'книголюб']\n"
     ]
    }
   ],
   "source": [
    "print(sorted_words_pavlov[:20])\n",
    "print(sorted_words_sber[:20])\n",
    "print(sorted_words_google[:20])"
   ]
  },
  {
   "cell_type": "markdown",
   "id": "75b70a56",
   "metadata": {},
   "source": [
    "### Итого, выбираем первую модель, т.к. у нее по ощущениям эмбеддинги лучше всего"
   ]
  }
 ],
 "metadata": {
  "kernelspec": {
   "display_name": "venv",
   "language": "python",
   "name": "python3"
  },
  "language_info": {
   "codemirror_mode": {
    "name": "ipython",
    "version": 3
   },
   "file_extension": ".py",
   "mimetype": "text/x-python",
   "name": "python",
   "nbconvert_exporter": "python",
   "pygments_lexer": "ipython3",
   "version": "3.11.5"
  },
  "toc": {
   "base_numbering": 1,
   "nav_menu": {},
   "number_sections": true,
   "sideBar": true,
   "skip_h1_title": false,
   "title_cell": "Table of Contents",
   "title_sidebar": "Contents",
   "toc_cell": false,
   "toc_position": {},
   "toc_section_display": true,
   "toc_window_display": false
  },
  "varInspector": {
   "cols": {
    "lenName": 16,
    "lenType": 16,
    "lenVar": 40
   },
   "kernels_config": {
    "python": {
     "delete_cmd_postfix": "",
     "delete_cmd_prefix": "del ",
     "library": "var_list.py",
     "varRefreshCmd": "print(var_dic_list())"
    },
    "r": {
     "delete_cmd_postfix": ") ",
     "delete_cmd_prefix": "rm(",
     "library": "var_list.r",
     "varRefreshCmd": "cat(var_dic_list()) "
    }
   },
   "types_to_exclude": [
    "module",
    "function",
    "builtin_function_or_method",
    "instance",
    "_Feature"
   ],
   "window_display": false
  }
 },
 "nbformat": 4,
 "nbformat_minor": 5
}
